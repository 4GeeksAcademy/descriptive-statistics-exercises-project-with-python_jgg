{
    "cells": [
        {
            "cell_type": "markdown",
            "id": "ac622319",
            "metadata": {},
            "source": [
                "# Descriptive statistics problems"
            ]
        },
        {
            "cell_type": "markdown",
            "id": "5e0ab0d5",
            "metadata": {},
            "source": [
                "### Exercise 1\n",
                "\n",
                "We will use NumPy to obtain information to describe statistically.\n",
                "\n",
                "- Generate an array of 100 elements following a normal distribution.\n",
                "- Generate an array of 100 elements following a chi-square distribution with 3 degrees of freedom.\n",
                "- Calculate the main metrics and statistical measures that best describe the two vectors."
            ]
        },
        {
            "cell_type": "code",
            "execution_count": null,
            "id": "5610da1a",
            "metadata": {},
            "outputs": [
                {
                    "name": "stdout",
                    "output_type": "stream",
                    "text": [
                        "Normal: [ 1.04966399  2.42712638 -0.60285013 -0.51881907 -0.16012711 -1.75454824\n",
                        "  0.64732278 -0.32277768  0.11922531  0.20191398 -1.10131206  0.30423233\n",
                        " -0.10643191  0.89749444 -0.40395328  0.58540544 -0.03698313  0.07100518\n",
                        " -2.00568398  0.81309598  2.04607341 -0.3001998  -1.21287639  1.62166087\n",
                        " -0.88070271  0.83908433  1.26493773  0.15778513  0.11335891 -1.25418038\n",
                        " -0.63147686  0.22922952 -0.32705725  0.37690478  0.02287127  0.39864732\n",
                        " -0.06397665  0.52398871 -0.39977504  0.48548805]\n",
                        "Chicuadrada: [1.28462943 7.72632284 1.99202219 1.84260457 1.32631599 4.18703482\n",
                        " 1.58044472 1.82660561 1.21326322 0.36291073 4.12503344 8.20553641\n",
                        " 8.34670809 2.82738253 5.72410584 2.130245   3.0363251  5.11843764\n",
                        " 2.35440894 2.7146917  1.11808122 2.82343897 5.64864932 5.0959627\n",
                        " 1.59822005 1.15301981 5.67228497 1.74515385 3.63283183 1.17298347\n",
                        " 5.29641766 4.51934896 5.66269562 2.73659899 0.54528085 0.73914963\n",
                        " 4.01832506 4.31932469 1.43843848 5.27736582]\n"
                    ]
                }
            ],
            "source": [
                "import numpy as np\n",
                "\n",
                "normal = np.random.normal(size=40)\n",
                "\n",
                "chi_cuadrado = np.random.chisquare(3,40)\n",
                "\n",
                "print(f\"Normal: {normal}\")\n",
                "print(f\"Chicuadrada: {chi_cuadrado}\")"
            ]
        },
        {
            "cell_type": "markdown",
            "id": "b429f2e8",
            "metadata": {},
            "source": [
                "MEDIA"
            ]
        },
        {
            "cell_type": "code",
            "execution_count": 47,
            "id": "e497b61d",
            "metadata": {},
            "outputs": [
                {
                    "name": "stdout",
                    "output_type": "stream",
                    "text": [
                        "Media normal : 0.07781960363518785\n",
                        "Media chicuadrada: 3.303465019056137\n"
                    ]
                }
            ],
            "source": [
                "import statistics as stats\n",
                "print(f\"Media normal : {stats.mean(normal)}\")\n",
                "print(f\"Media chicuadrada: {stats.mean(chi_cuadrado)}\")"
            ]
        },
        {
            "cell_type": "markdown",
            "id": "b98a42fc",
            "metadata": {},
            "source": [
                "MEDIANA"
            ]
        },
        {
            "cell_type": "code",
            "execution_count": 48,
            "id": "5ff02c44",
            "metadata": {},
            "outputs": [
                {
                    "name": "stdout",
                    "output_type": "stream",
                    "text": [
                        "Mediana normal : 0.09218204693848508\n",
                        "Mediana chicuadrada: 2.7800189826569732\n"
                    ]
                }
            ],
            "source": [
                "print(f\"Mediana normal : {stats.median(normal)}\")\n",
                "print(f\"Mediana chicuadrada: {stats.median(chi_cuadrado)}\")"
            ]
        },
        {
            "cell_type": "markdown",
            "id": "213b9a23",
            "metadata": {},
            "source": [
                "MODA"
            ]
        },
        {
            "cell_type": "code",
            "execution_count": 49,
            "id": "4e160d9e",
            "metadata": {},
            "outputs": [
                {
                    "name": "stdout",
                    "output_type": "stream",
                    "text": [
                        "Moda normal: 1.0496639861500954\n",
                        "Moda chicuadrada: 1.2846294310294282\n"
                    ]
                }
            ],
            "source": [
                "print(f\"Moda normal: {stats.mode(normal)}\")\n",
                "print(f\"Moda chicuadrada: {stats.mode(chi_cuadrado)}\")"
            ]
        },
        {
            "cell_type": "markdown",
            "id": "30b398f7",
            "metadata": {},
            "source": [
                "RANGO"
            ]
        },
        {
            "cell_type": "code",
            "execution_count": 50,
            "id": "751f58bf",
            "metadata": {},
            "outputs": [
                {
                    "name": "stdout",
                    "output_type": "stream",
                    "text": [
                        "Rango normal: 4.432810359096024\n",
                        "Rango chicuadrada: 7.983797354872218\n"
                    ]
                }
            ],
            "source": [
                "rango_normal = max(normal) - min(normal)\n",
                "rango_chicuadrada = max(chi_cuadrado) - min(chi_cuadrado)\n",
                "print(f\"Rango normal: {rango_normal}\")\n",
                "print(f\"Rango chicuadrada: {rango_chicuadrada}\")"
            ]
        },
        {
            "cell_type": "markdown",
            "id": "90dcc7c1",
            "metadata": {},
            "source": [
                "VARIACION Y DESVIACION ESTANDAR"
            ]
        },
        {
            "cell_type": "code",
            "execution_count": 51,
            "id": "4b75a537",
            "metadata": {},
            "outputs": [
                {
                    "name": "stdout",
                    "output_type": "stream",
                    "text": [
                        "Variacion normal: 0.8457859573686809 \n",
                        "Variacion estandar normal: 0.919666220630442\n",
                        "Variacion chicuadrada: 4.639460982939707 \n",
                        "Variacion estandar chicuadrada: 2.153940803025865\n"
                    ]
                }
            ],
            "source": [
                "var_normal = stats.variance(normal)\n",
                "std_normal = stats.stdev(normal)\n",
                "var_chi_cuadrado = stats.variance(chi_cuadrado)\n",
                "std_chi_cuadrado = stats.stdev(chi_cuadrado)\n",
                "\n",
                "print(f\"Variacion normal: {var_normal} \\nVariacion estandar normal: {std_normal}\")\n",
                "print(f\"Variacion chicuadrada: {var_chi_cuadrado} \\nVariacion estandar chicuadrada: {std_chi_cuadrado}\")"
            ]
        },
        {
            "cell_type": "markdown",
            "id": "ac4bd0d6",
            "metadata": {},
            "source": [
                "ASIMETRÍA"
            ]
        },
        {
            "cell_type": "code",
            "execution_count": 52,
            "id": "f89f6551",
            "metadata": {},
            "outputs": [
                {
                    "name": "stdout",
                    "output_type": "stream",
                    "text": [
                        "Asimetria normal: 0.17547583724014099\n",
                        "Asimetria chicuadrada: 0.6950712033905534\n"
                    ]
                }
            ],
            "source": [
                "from scipy.stats import skew\n",
                "\n",
                "normal_skew = skew(normal)\n",
                "chi_cuadrado_skew = skew(chi_cuadrado)\n",
                "\n",
                "print(f\"Asimetria normal: {normal_skew}\")\n",
                "print(f\"Asimetria chicuadrada: {chi_cuadrado_skew}\")"
            ]
        },
        {
            "cell_type": "markdown",
            "id": "9fa59934",
            "metadata": {},
            "source": [
                "KURTOSIS"
            ]
        },
        {
            "cell_type": "code",
            "execution_count": 53,
            "id": "824fc794",
            "metadata": {},
            "outputs": [
                {
                    "name": "stdout",
                    "output_type": "stream",
                    "text": [
                        "Kurtosis normal: 0.49120583308141885\n",
                        "Kurtosis chicuadrada: -0.39390089361696257\n"
                    ]
                }
            ],
            "source": [
                "from scipy.stats import kurtosis\n",
                "\n",
                "normal_kurtosis = kurtosis(normal)\n",
                "chi_cuadrado_kurtosis = kurtosis(chi_cuadrado)\n",
                "\n",
                "print(f\"Kurtosis normal: {normal_kurtosis}\")\n",
                "print(f\"Kurtosis chicuadrada: {chi_cuadrado_kurtosis}\")"
            ]
        },
        {
            "cell_type": "markdown",
            "id": "46c70c3d",
            "metadata": {},
            "source": [
                "### Exercise 2\n",
                "\n",
                "Write a Python program to calculate the standard deviation of the following data:\n",
                "\n",
                "```py\n",
                "data = [4, 2, 5, 8, 6]\n",
                "```"
            ]
        },
        {
            "cell_type": "code",
            "execution_count": 1,
            "id": "a09d7a24",
            "metadata": {},
            "outputs": [
                {
                    "name": "stdout",
                    "output_type": "stream",
                    "text": [
                        "Desviacion estandar: 2.23606797749979\n"
                    ]
                }
            ],
            "source": [
                "import math\n",
                "\n",
                "data = [4, 2, 5, 8, 6]\n",
                "\n",
                "def desviacion_estandar(datos, muestral=False):\n",
                "    n = len(datos)\n",
                "    media = sum(datos) / n\n",
                "    \n",
                "    sumatoria = sum((x - media) ** 2 for x in datos)\n",
                "    \n",
                "    divisor = n - 1\n",
                "    varianza = sumatoria / divisor\n",
                "    return math.sqrt(varianza)\n",
                "\n",
                "print(f\"Desviacion estandar: {desviacion_estandar(data)}\")"
            ]
        }
    ],
    "metadata": {
        "kernelspec": {
            "display_name": "Python 3",
            "language": "python",
            "name": "python3"
        },
        "language_info": {
            "codemirror_mode": {
                "name": "ipython",
                "version": 3
            },
            "file_extension": ".py",
            "mimetype": "text/x-python",
            "name": "python",
            "nbconvert_exporter": "python",
            "pygments_lexer": "ipython3",
            "version": "3.11.4"
        }
    },
    "nbformat": 4,
    "nbformat_minor": 5
}
